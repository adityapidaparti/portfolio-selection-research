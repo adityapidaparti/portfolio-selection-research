{
 "cells": [
  {
   "cell_type": "markdown",
   "metadata": {},
   "source": [
    "# Coarse sweep over SP500 results\n",
    " Done by Aditya Pidaparti\n",
    " Begun on Mar 14, 2018"
   ]
  },
  {
   "cell_type": "code",
   "execution_count": 1,
   "metadata": {},
   "outputs": [],
   "source": [
    "import pandas as pd\n",
    "import seaborn as sns\n",
    "import matplotlib.pyplot as plt\n",
    "import glob"
   ]
  },
  {
   "cell_type": "code",
   "execution_count": 2,
   "metadata": {},
   "outputs": [
    {
     "data": {
      "text/html": [
       "<div>\n",
       "<style scoped>\n",
       "    .dataframe tbody tr th:only-of-type {\n",
       "        vertical-align: middle;\n",
       "    }\n",
       "\n",
       "    .dataframe tbody tr th {\n",
       "        vertical-align: top;\n",
       "    }\n",
       "\n",
       "    .dataframe thead th {\n",
       "        text-align: right;\n",
       "    }\n",
       "</style>\n",
       "<table border=\"1\" class=\"dataframe\">\n",
       "  <thead>\n",
       "    <tr style=\"text-align: right;\">\n",
       "      <th></th>\n",
       "      <th>Unnamed: 0</th>\n",
       "      <th>Beta Range</th>\n",
       "      <th>Alpha</th>\n",
       "      <th>Gamma</th>\n",
       "      <th>Eta</th>\n",
       "      <th>Max Risk</th>\n",
       "      <th>Wealth</th>\n",
       "      <th>No Risk Wealth</th>\n",
       "    </tr>\n",
       "  </thead>\n",
       "  <tbody>\n",
       "    <tr>\n",
       "      <th>count</th>\n",
       "      <td>100.000000</td>\n",
       "      <td>100.000000</td>\n",
       "      <td>100.00000</td>\n",
       "      <td>100.000000</td>\n",
       "      <td>100.000000</td>\n",
       "      <td>100.000000</td>\n",
       "      <td>100.000000</td>\n",
       "      <td>1.000000e+02</td>\n",
       "    </tr>\n",
       "    <tr>\n",
       "      <th>mean</th>\n",
       "      <td>49.500000</td>\n",
       "      <td>107.940000</td>\n",
       "      <td>0.14000</td>\n",
       "      <td>0.004265</td>\n",
       "      <td>19.570000</td>\n",
       "      <td>0.997000</td>\n",
       "      <td>0.345799</td>\n",
       "      <td>1.784425e-01</td>\n",
       "    </tr>\n",
       "    <tr>\n",
       "      <th>std</th>\n",
       "      <td>29.011492</td>\n",
       "      <td>87.124759</td>\n",
       "      <td>0.11547</td>\n",
       "      <td>0.003643</td>\n",
       "      <td>6.757345</td>\n",
       "      <td>0.291445</td>\n",
       "      <td>0.386444</td>\n",
       "      <td>2.550626e-01</td>\n",
       "    </tr>\n",
       "    <tr>\n",
       "      <th>min</th>\n",
       "      <td>0.000000</td>\n",
       "      <td>21.000000</td>\n",
       "      <td>0.00000</td>\n",
       "      <td>0.000000</td>\n",
       "      <td>8.000000</td>\n",
       "      <td>0.500000</td>\n",
       "      <td>0.000020</td>\n",
       "      <td>5.201629e-08</td>\n",
       "    </tr>\n",
       "    <tr>\n",
       "      <th>25%</th>\n",
       "      <td>24.750000</td>\n",
       "      <td>42.000000</td>\n",
       "      <td>0.00000</td>\n",
       "      <td>0.001000</td>\n",
       "      <td>14.000000</td>\n",
       "      <td>0.750000</td>\n",
       "      <td>0.020983</td>\n",
       "      <td>1.052746e-03</td>\n",
       "    </tr>\n",
       "    <tr>\n",
       "      <th>50%</th>\n",
       "      <td>49.500000</td>\n",
       "      <td>63.000000</td>\n",
       "      <td>0.20000</td>\n",
       "      <td>0.005000</td>\n",
       "      <td>19.500000</td>\n",
       "      <td>1.000000</td>\n",
       "      <td>0.159413</td>\n",
       "      <td>2.596043e-02</td>\n",
       "    </tr>\n",
       "    <tr>\n",
       "      <th>75%</th>\n",
       "      <td>74.250000</td>\n",
       "      <td>126.000000</td>\n",
       "      <td>0.20000</td>\n",
       "      <td>0.005000</td>\n",
       "      <td>24.000000</td>\n",
       "      <td>1.250000</td>\n",
       "      <td>0.675769</td>\n",
       "      <td>2.741899e-01</td>\n",
       "    </tr>\n",
       "    <tr>\n",
       "      <th>max</th>\n",
       "      <td>99.000000</td>\n",
       "      <td>252.000000</td>\n",
       "      <td>0.30000</td>\n",
       "      <td>0.010000</td>\n",
       "      <td>31.000000</td>\n",
       "      <td>1.450000</td>\n",
       "      <td>1.509666</td>\n",
       "      <td>7.798501e-01</td>\n",
       "    </tr>\n",
       "  </tbody>\n",
       "</table>\n",
       "</div>"
      ],
      "text/plain": [
       "       Unnamed: 0  Beta Range      Alpha       Gamma         Eta    Max Risk  \\\n",
       "count  100.000000  100.000000  100.00000  100.000000  100.000000  100.000000   \n",
       "mean    49.500000  107.940000    0.14000    0.004265   19.570000    0.997000   \n",
       "std     29.011492   87.124759    0.11547    0.003643    6.757345    0.291445   \n",
       "min      0.000000   21.000000    0.00000    0.000000    8.000000    0.500000   \n",
       "25%     24.750000   42.000000    0.00000    0.001000   14.000000    0.750000   \n",
       "50%     49.500000   63.000000    0.20000    0.005000   19.500000    1.000000   \n",
       "75%     74.250000  126.000000    0.20000    0.005000   24.000000    1.250000   \n",
       "max     99.000000  252.000000    0.30000    0.010000   31.000000    1.450000   \n",
       "\n",
       "           Wealth  No Risk Wealth  \n",
       "count  100.000000    1.000000e+02  \n",
       "mean     0.345799    1.784425e-01  \n",
       "std      0.386444    2.550626e-01  \n",
       "min      0.000020    5.201629e-08  \n",
       "25%      0.020983    1.052746e-03  \n",
       "50%      0.159413    2.596043e-02  \n",
       "75%      0.675769    2.741899e-01  \n",
       "max      1.509666    7.798501e-01  "
      ]
     },
     "execution_count": 2,
     "metadata": {},
     "output_type": "execute_result"
    }
   ],
   "source": [
    "#Setup\n",
    "data_file = '../rejection/sp500/compare_100-bad/2018-04-18 05:33:02'\n",
    "first = pd.read_csv(data_file)\n",
    "\n",
    "first.describe()"
   ]
  },
  {
   "cell_type": "code",
   "execution_count": 3,
   "metadata": {},
   "outputs": [
    {
     "data": {
      "image/png": "[encoded data removed]",
      "text/plain": [
       "<Figure size 432x288 with 1 Axes>"
      ]
     },
     "metadata": {
      "needs_background": "light"
     },
     "output_type": "display_data"
    }
   ],
   "source": [
    "first['Difference'] = (first['No Risk Wealth'] - first['Wealth'])#/first['No Risk Wealth']\n",
    "# first['Difference'] = first['Difference'].apply()\n",
    "first.plot.scatter(x='Max Risk',y='Wealth')\n",
    "plt.show()"
   ]
  },
  {
   "cell_type": "markdown",
   "metadata": {},
   "source": [
    "Note the large number of results that go to zero. Might want to remove them for further analysis or retest only interesting values.\n",
    "\n",
    "Given that the data is so variable and bunched at certain risks, might want to decrease step size and take more data points. To show relative differences when wealth goes to zero, might want to clean and extract data to remove data points where wealth goes to zero."
   ]
  },
  {
   "cell_type": "markdown",
   "metadata": {},
   "source": [
    "## Extraing basic plots from ALL data\n",
    "\n",
    "The next step is to compute results from all data. First, the results from all datasets with 100 tests will be aggregated. However, this sampling was done with replacement, so if there is significant overlap, the duplicate results will be removed."
   ]
  },
  {
   "cell_type": "code",
   "execution_count": 4,
   "metadata": {},
   "outputs": [
    {
     "name": "stdout",
     "output_type": "stream",
     "text": [
      "       Unnamed: 0  Beta Range       Alpha       Gamma         Eta    Max Risk  \\\n",
      "count  800.000000  800.000000  800.000000  800.000000  800.000000  800.000000   \n",
      "mean    49.500000  101.272500    0.150125    0.003919   19.696250    0.986937   \n",
      "std     28.884128   84.015752    0.112654    0.003552    6.820897    0.291528   \n",
      "min      0.000000   21.000000    0.000000    0.000000    8.000000    0.500000   \n",
      "25%     24.750000   42.000000    0.000000    0.001000   14.000000    0.750000   \n",
      "50%     49.500000   63.000000    0.200000    0.002500   20.000000    1.000000   \n",
      "75%     74.250000  126.000000    0.200000    0.005000   25.000000    1.250000   \n",
      "max     99.000000  252.000000    0.300000    0.010000   31.000000    1.450000   \n",
      "\n",
      "           Wealth  No Risk Wealth  \n",
      "count  800.000000    8.000000e+02  \n",
      "mean     0.374365    1.911982e-01  \n",
      "std      0.374717    2.499989e-01  \n",
      "min      0.000002    4.526169e-08  \n",
      "25%      0.047960    1.874919e-03  \n",
      "50%      0.264033    4.677440e-02  \n",
      "75%      0.628703    2.694425e-01  \n",
      "max      2.365258    8.806732e-01  \n"
     ]
    }
   ],
   "source": [
    "path ='../rejection/sp500/compare_100-bad/'\n",
    "files = glob.glob(path + '*')\n",
    "frame = pd.DataFrame()\n",
    "\n",
    "data_list = []\n",
    "for file in files:\n",
    "    df = pd.read_csv(file,index_col=None, header=0)\n",
    "    data_list.append(df)\n",
    "\n",
    "all_data = pd.concat(data_list)\n",
    "\n",
    "print(all_data.describe())"
   ]
  },
  {
   "cell_type": "code",
   "execution_count": 5,
   "metadata": {},
   "outputs": [
    {
     "data": {
      "image/png": "[encoded data removed]",
      "text/plain": [
       "<Figure size 432x288 with 1 Axes>"
      ]
     },
     "metadata": {
      "needs_background": "light"
     },
     "output_type": "display_data"
    }
   ],
   "source": [
    "all_data['Difference'] = (all_data['No Risk Wealth'] - all_data['Wealth'])\n",
    "\n",
    "all_data.plot.scatter(x='Max Risk',y='Difference')\n",
    "plt.show()"
   ]
  },
  {
   "cell_type": "code",
   "execution_count": null,
   "metadata": {},
   "outputs": [],
   "source": []
  },
  {
   "cell_type": "code",
   "execution_count": null,
   "metadata": {},
   "outputs": [],
   "source": []
  }
 ],
 "metadata": {
  "kernelspec": {
   "display_name": "Python 2",
   "language": "python",
   "name": "python2"
  },
  "language_info": {
   "codemirror_mode": {
    "name": "ipython",
    "version": 2
   },
   "file_extension": ".py",
   "mimetype": "text/x-python",
   "name": "python",
   "nbconvert_exporter": "python",
   "pygments_lexer": "ipython2",
   "version": "2.7.15"
  }
 },
 "nbformat": 4,
 "nbformat_minor": 2
}
