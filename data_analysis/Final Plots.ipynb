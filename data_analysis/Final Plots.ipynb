{
 "cells": [
  {
   "cell_type": "markdown",
   "metadata": {},
   "source": [
    "## Final plots for report"
   ]
  },
  {
   "cell_type": "code",
   "execution_count": 111,
   "metadata": {},
   "outputs": [],
   "source": [
    "import pandas as pd\n",
    "import seaborn as sns\n",
    "import matplotlib.pyplot as plt\n",
    "\n",
    "import os"
   ]
  },
  {
   "cell_type": "code",
   "execution_count": 112,
   "metadata": {},
   "outputs": [],
   "source": [
    "from mpl_toolkits.mplot3d import Axes3D\n",
    "from mpl_toolkits import mplot3d"
   ]
  },
  {
   "cell_type": "markdown",
   "metadata": {},
   "source": [
    "## 1. Aggregate Data"
   ]
  },
  {
   "cell_type": "code",
   "execution_count": 113,
   "metadata": {},
   "outputs": [],
   "source": [
    "nyse_data_path = '../rejection/nyse-o/compare_100/'\n",
    "sp1 = '../rejection/sp500/compare_1/'\n",
    "sp100 = '../rejection/sp500/compare_100-bad/'"
   ]
  },
  {
   "cell_type": "markdown",
   "metadata": {},
   "source": [
    "## 1.1 NYSE"
   ]
  },
  {
   "cell_type": "code",
   "execution_count": 117,
   "metadata": {},
   "outputs": [
    {
     "data": {
      "text/plain": [
       "['Compare_100_2018-01-18 00:32:31',\n",
       " 'Compare_100_2018-01-17 23:17:58',\n",
       " 'Compare_100_2018-01-18 01:17:40',\n",
       " 'Compare_100_2018-01-17 23:35:41',\n",
       " 'Compare_100_2018-01-17 20:34:47',\n",
       " 'Compare_100_2018-01-18 01:10:55',\n",
       " 'Compare_100_2018-01-17 23:13:38',\n",
       " 'Compare_100_2018-01-17 22:39:53',\n",
       " 'Compare_100_2018-01-17 20:01:05',\n",
       " 'Compare_100_2018-01-17 22:58:08',\n",
       " 'Compare_100_2018-01-17 23:35:42']"
      ]
     },
     "execution_count": 117,
     "metadata": {},
     "output_type": "execute_result"
    }
   ],
   "source": [
    "files = os.listdir(nyse_data_path)\n",
    "files"
   ]
  },
  {
   "cell_type": "code",
   "execution_count": 120,
   "metadata": {},
   "outputs": [],
   "source": [
    "dfs = []\n",
    "\n",
    "for f in files:\n",
    "    df = pd.read_csv(nyse_data_path + f)\n",
    "    dfs.append(df)\n",
    "    \n",
    "nyse_data = pd.concat(dfs, axis=0, ignore_index=True)\n",
    "nyse_data= nyse_data.drop(columns=['Unnamed: 0'])\n",
    "\n",
    "nyse_data['Wealth Difference'] =  nyse_data['Wealth'] - nyse_data['No Risk Wealth']\n",
    "nyse_data['Wealth prop diff'] =  (nyse_data['Wealth'] - nyse_data['No Risk Wealth']) / nyse_data['No Risk Wealth']"
   ]
  },
  {
   "cell_type": "code",
   "execution_count": 121,
   "metadata": {},
   "outputs": [
    {
     "data": {
      "text/html": [
       "<div>\n",
       "<style scoped>\n",
       "    .dataframe tbody tr th:only-of-type {\n",
       "        vertical-align: middle;\n",
       "    }\n",
       "\n",
       "    .dataframe tbody tr th {\n",
       "        vertical-align: top;\n",
       "    }\n",
       "\n",
       "    .dataframe thead th {\n",
       "        text-align: right;\n",
       "    }\n",
       "</style>\n",
       "<table border=\"1\" class=\"dataframe\">\n",
       "  <thead>\n",
       "    <tr style=\"text-align: right;\">\n",
       "      <th></th>\n",
       "      <th>Beta Range</th>\n",
       "      <th>Alpha</th>\n",
       "      <th>Gamma</th>\n",
       "      <th>Eta</th>\n",
       "      <th>Max Risk</th>\n",
       "      <th>Wealth</th>\n",
       "      <th>No Risk Wealth</th>\n",
       "      <th>Wealth Difference</th>\n",
       "      <th>Wealth prop diff</th>\n",
       "    </tr>\n",
       "  </thead>\n",
       "  <tbody>\n",
       "    <tr>\n",
       "      <th>count</th>\n",
       "      <td>1100.000000</td>\n",
       "      <td>1100.000000</td>\n",
       "      <td>1100.000000</td>\n",
       "      <td>1100.000000</td>\n",
       "      <td>1100.000000</td>\n",
       "      <td>1100.000000</td>\n",
       "      <td>1.100000e+03</td>\n",
       "      <td>1.100000e+03</td>\n",
       "      <td>1.100000e+03</td>\n",
       "    </tr>\n",
       "    <tr>\n",
       "      <th>mean</th>\n",
       "      <td>101.067273</td>\n",
       "      <td>0.203045</td>\n",
       "      <td>0.003646</td>\n",
       "      <td>0.771455</td>\n",
       "      <td>0.974727</td>\n",
       "      <td>23.240022</td>\n",
       "      <td>1.666299e+01</td>\n",
       "      <td>6.577029e+00</td>\n",
       "      <td>5.874941e+04</td>\n",
       "    </tr>\n",
       "    <tr>\n",
       "      <th>std</th>\n",
       "      <td>81.697967</td>\n",
       "      <td>0.128961</td>\n",
       "      <td>0.003530</td>\n",
       "      <td>0.457933</td>\n",
       "      <td>0.289351</td>\n",
       "      <td>11.329711</td>\n",
       "      <td>1.095889e+01</td>\n",
       "      <td>9.767410e+00</td>\n",
       "      <td>1.492137e+06</td>\n",
       "    </tr>\n",
       "    <tr>\n",
       "      <th>min</th>\n",
       "      <td>21.000000</td>\n",
       "      <td>0.000000</td>\n",
       "      <td>0.000000</td>\n",
       "      <td>0.000000</td>\n",
       "      <td>0.500000</td>\n",
       "      <td>0.000140</td>\n",
       "      <td>1.888940e-07</td>\n",
       "      <td>-2.176420e+01</td>\n",
       "      <td>-4.493513e-01</td>\n",
       "    </tr>\n",
       "    <tr>\n",
       "      <th>25%</th>\n",
       "      <td>42.000000</td>\n",
       "      <td>0.100000</td>\n",
       "      <td>0.001000</td>\n",
       "      <td>0.400000</td>\n",
       "      <td>0.750000</td>\n",
       "      <td>15.051585</td>\n",
       "      <td>1.084368e+01</td>\n",
       "      <td>7.552359e-11</td>\n",
       "      <td>2.831727e-12</td>\n",
       "    </tr>\n",
       "    <tr>\n",
       "      <th>50%</th>\n",
       "      <td>63.000000</td>\n",
       "      <td>0.200000</td>\n",
       "      <td>0.002500</td>\n",
       "      <td>0.800000</td>\n",
       "      <td>1.000000</td>\n",
       "      <td>26.598582</td>\n",
       "      <td>1.416210e+01</td>\n",
       "      <td>4.203695e+00</td>\n",
       "      <td>3.649187e-01</td>\n",
       "    </tr>\n",
       "    <tr>\n",
       "      <th>75%</th>\n",
       "      <td>126.000000</td>\n",
       "      <td>0.300000</td>\n",
       "      <td>0.005000</td>\n",
       "      <td>1.200000</td>\n",
       "      <td>1.250000</td>\n",
       "      <td>26.749613</td>\n",
       "      <td>2.021331e+01</td>\n",
       "      <td>1.302029e+01</td>\n",
       "      <td>1.127740e+00</td>\n",
       "    </tr>\n",
       "    <tr>\n",
       "      <th>max</th>\n",
       "      <td>252.000000</td>\n",
       "      <td>0.400000</td>\n",
       "      <td>0.010000</td>\n",
       "      <td>1.500000</td>\n",
       "      <td>1.450000</td>\n",
       "      <td>118.394070</td>\n",
       "      <td>5.373013e+01</td>\n",
       "      <td>1.156722e+02</td>\n",
       "      <td>4.836919e+07</td>\n",
       "    </tr>\n",
       "  </tbody>\n",
       "</table>\n",
       "</div>"
      ],
      "text/plain": [
       "        Beta Range        Alpha        Gamma          Eta     Max Risk  \\\n",
       "count  1100.000000  1100.000000  1100.000000  1100.000000  1100.000000   \n",
       "mean    101.067273     0.203045     0.003646     0.771455     0.974727   \n",
       "std      81.697967     0.128961     0.003530     0.457933     0.289351   \n",
       "min      21.000000     0.000000     0.000000     0.000000     0.500000   \n",
       "25%      42.000000     0.100000     0.001000     0.400000     0.750000   \n",
       "50%      63.000000     0.200000     0.002500     0.800000     1.000000   \n",
       "75%     126.000000     0.300000     0.005000     1.200000     1.250000   \n",
       "max     252.000000     0.400000     0.010000     1.500000     1.450000   \n",
       "\n",
       "            Wealth  No Risk Wealth  Wealth Difference  Wealth prop diff  \n",
       "count  1100.000000    1.100000e+03       1.100000e+03      1.100000e+03  \n",
       "mean     23.240022    1.666299e+01       6.577029e+00      5.874941e+04  \n",
       "std      11.329711    1.095889e+01       9.767410e+00      1.492137e+06  \n",
       "min       0.000140    1.888940e-07      -2.176420e+01     -4.493513e-01  \n",
       "25%      15.051585    1.084368e+01       7.552359e-11      2.831727e-12  \n",
       "50%      26.598582    1.416210e+01       4.203695e+00      3.649187e-01  \n",
       "75%      26.749613    2.021331e+01       1.302029e+01      1.127740e+00  \n",
       "max     118.394070    5.373013e+01       1.156722e+02      4.836919e+07  "
      ]
     },
     "execution_count": 121,
     "metadata": {},
     "output_type": "execute_result"
    }
   ],
   "source": [
    "# all_data.head(10)\n",
    "nyse_data.describe()"
   ]
  },
  {
   "cell_type": "markdown",
   "metadata": {},
   "source": [
    "## 1.2 S&P"
   ]
  },
  {
   "cell_type": "code",
   "execution_count": 65,
   "metadata": {},
   "outputs": [
    {
     "data": {
      "text/plain": [
       "['2018-04-18 06:04:33',\n",
       " '2018-04-18 06:13:48',\n",
       " '2018-04-18 06:11:18',\n",
       " '2018-04-18 05:53:57',\n",
       " '2018-04-18 05:57:56',\n",
       " '2018-04-18 05:33:02',\n",
       " '2018-04-18 06:12:29',\n",
       " '2018-04-18 06:06:51']"
      ]
     },
     "execution_count": 65,
     "metadata": {},
     "output_type": "execute_result"
    }
   ],
   "source": [
    "files = os.listdir(sp100)\n",
    "files"
   ]
  },
  {
   "cell_type": "code",
   "execution_count": 106,
   "metadata": {},
   "outputs": [
    {
     "data": {
      "text/html": [
       "<div>\n",
       "<style scoped>\n",
       "    .dataframe tbody tr th:only-of-type {\n",
       "        vertical-align: middle;\n",
       "    }\n",
       "\n",
       "    .dataframe tbody tr th {\n",
       "        vertical-align: top;\n",
       "    }\n",
       "\n",
       "    .dataframe thead th {\n",
       "        text-align: right;\n",
       "    }\n",
       "</style>\n",
       "<table border=\"1\" class=\"dataframe\">\n",
       "  <thead>\n",
       "    <tr style=\"text-align: right;\">\n",
       "      <th></th>\n",
       "      <th>Beta Range</th>\n",
       "      <th>Alpha</th>\n",
       "      <th>Gamma</th>\n",
       "      <th>Eta</th>\n",
       "      <th>Max Risk</th>\n",
       "      <th>Wealth</th>\n",
       "      <th>No Risk Wealth</th>\n",
       "      <th>Wealth Difference</th>\n",
       "      <th>Wealth prop diff</th>\n",
       "    </tr>\n",
       "  </thead>\n",
       "  <tbody>\n",
       "    <tr>\n",
       "      <th>count</th>\n",
       "      <td>800.000000</td>\n",
       "      <td>800.000000</td>\n",
       "      <td>800.000000</td>\n",
       "      <td>800.000000</td>\n",
       "      <td>800.000000</td>\n",
       "      <td>800.000000</td>\n",
       "      <td>8.000000e+02</td>\n",
       "      <td>800.000000</td>\n",
       "      <td>8.000000e+02</td>\n",
       "    </tr>\n",
       "    <tr>\n",
       "      <th>mean</th>\n",
       "      <td>101.272500</td>\n",
       "      <td>0.150125</td>\n",
       "      <td>0.003919</td>\n",
       "      <td>19.696250</td>\n",
       "      <td>0.986937</td>\n",
       "      <td>0.374365</td>\n",
       "      <td>1.911982e-01</td>\n",
       "      <td>0.183167</td>\n",
       "      <td>5.513585e+03</td>\n",
       "    </tr>\n",
       "    <tr>\n",
       "      <th>std</th>\n",
       "      <td>84.015752</td>\n",
       "      <td>0.112654</td>\n",
       "      <td>0.003552</td>\n",
       "      <td>6.820897</td>\n",
       "      <td>0.291528</td>\n",
       "      <td>0.374717</td>\n",
       "      <td>2.499989e-01</td>\n",
       "      <td>0.263440</td>\n",
       "      <td>6.339655e+04</td>\n",
       "    </tr>\n",
       "    <tr>\n",
       "      <th>min</th>\n",
       "      <td>21.000000</td>\n",
       "      <td>0.000000</td>\n",
       "      <td>0.000000</td>\n",
       "      <td>8.000000</td>\n",
       "      <td>0.500000</td>\n",
       "      <td>0.000002</td>\n",
       "      <td>4.526169e-08</td>\n",
       "      <td>-0.324815</td>\n",
       "      <td>-4.094607e-01</td>\n",
       "    </tr>\n",
       "    <tr>\n",
       "      <th>25%</th>\n",
       "      <td>42.000000</td>\n",
       "      <td>0.000000</td>\n",
       "      <td>0.001000</td>\n",
       "      <td>14.000000</td>\n",
       "      <td>0.750000</td>\n",
       "      <td>0.047960</td>\n",
       "      <td>1.874919e-03</td>\n",
       "      <td>0.014205</td>\n",
       "      <td>4.514002e-01</td>\n",
       "    </tr>\n",
       "    <tr>\n",
       "      <th>50%</th>\n",
       "      <td>63.000000</td>\n",
       "      <td>0.200000</td>\n",
       "      <td>0.002500</td>\n",
       "      <td>20.000000</td>\n",
       "      <td>1.000000</td>\n",
       "      <td>0.264033</td>\n",
       "      <td>4.677440e-02</td>\n",
       "      <td>0.071064</td>\n",
       "      <td>2.273262e+00</td>\n",
       "    </tr>\n",
       "    <tr>\n",
       "      <th>75%</th>\n",
       "      <td>126.000000</td>\n",
       "      <td>0.200000</td>\n",
       "      <td>0.005000</td>\n",
       "      <td>25.000000</td>\n",
       "      <td>1.250000</td>\n",
       "      <td>0.628703</td>\n",
       "      <td>2.694425e-01</td>\n",
       "      <td>0.261830</td>\n",
       "      <td>1.613143e+01</td>\n",
       "    </tr>\n",
       "    <tr>\n",
       "      <th>max</th>\n",
       "      <td>252.000000</td>\n",
       "      <td>0.300000</td>\n",
       "      <td>0.010000</td>\n",
       "      <td>31.000000</td>\n",
       "      <td>1.450000</td>\n",
       "      <td>2.365258</td>\n",
       "      <td>8.806732e-01</td>\n",
       "      <td>1.767166</td>\n",
       "      <td>1.378616e+06</td>\n",
       "    </tr>\n",
       "  </tbody>\n",
       "</table>\n",
       "</div>"
      ],
      "text/plain": [
       "       Beta Range       Alpha       Gamma         Eta    Max Risk      Wealth  \\\n",
       "count  800.000000  800.000000  800.000000  800.000000  800.000000  800.000000   \n",
       "mean   101.272500    0.150125    0.003919   19.696250    0.986937    0.374365   \n",
       "std     84.015752    0.112654    0.003552    6.820897    0.291528    0.374717   \n",
       "min     21.000000    0.000000    0.000000    8.000000    0.500000    0.000002   \n",
       "25%     42.000000    0.000000    0.001000   14.000000    0.750000    0.047960   \n",
       "50%     63.000000    0.200000    0.002500   20.000000    1.000000    0.264033   \n",
       "75%    126.000000    0.200000    0.005000   25.000000    1.250000    0.628703   \n",
       "max    252.000000    0.300000    0.010000   31.000000    1.450000    2.365258   \n",
       "\n",
       "       No Risk Wealth  Wealth Difference  Wealth prop diff  \n",
       "count    8.000000e+02         800.000000      8.000000e+02  \n",
       "mean     1.911982e-01           0.183167      5.513585e+03  \n",
       "std      2.499989e-01           0.263440      6.339655e+04  \n",
       "min      4.526169e-08          -0.324815     -4.094607e-01  \n",
       "25%      1.874919e-03           0.014205      4.514002e-01  \n",
       "50%      4.677440e-02           0.071064      2.273262e+00  \n",
       "75%      2.694425e-01           0.261830      1.613143e+01  \n",
       "max      8.806732e-01           1.767166      1.378616e+06  "
      ]
     },
     "execution_count": 106,
     "metadata": {},
     "output_type": "execute_result"
    }
   ],
   "source": [
    "dfs = []\n",
    "\n",
    "for f in files:\n",
    "    df = pd.read_csv(sp100 + f)\n",
    "    dfs.append(df)\n",
    "    \n",
    "all_data = pd.concat(dfs, axis=0, ignore_index=True)\n",
    "all_data = all_data.drop(columns=['Unnamed: 0'])\n",
    "\n",
    "all_data['Wealth Difference'] =  all_data['Wealth'] - all_data['No Risk Wealth']\n",
    "all_data['Wealth prop diff'] =  (all_data['Wealth'] - all_data['No Risk Wealth']) / all_data['No Risk Wealth']\n",
    "\n",
    "all_data.describe()"
   ]
  },
  {
   "cell_type": "markdown",
   "metadata": {},
   "source": [
    "## 2 Basic visualization"
   ]
  },
  {
   "cell_type": "markdown",
   "metadata": {},
   "source": [
    "## 2.1 Difference in wealth vs. beta"
   ]
  },
  {
   "cell_type": "code",
   "execution_count": 127,
   "metadata": {},
   "outputs": [
    {
     "data": {
      "text/html": [
       "<div>\n",
       "<style scoped>\n",
       "    .dataframe tbody tr th:only-of-type {\n",
       "        vertical-align: middle;\n",
       "    }\n",
       "\n",
       "    .dataframe tbody tr th {\n",
       "        vertical-align: top;\n",
       "    }\n",
       "\n",
       "    .dataframe thead th {\n",
       "        text-align: right;\n",
       "    }\n",
       "</style>\n",
       "<table border=\"1\" class=\"dataframe\">\n",
       "  <thead>\n",
       "    <tr style=\"text-align: right;\">\n",
       "      <th></th>\n",
       "      <th>Beta Range</th>\n",
       "      <th>Alpha</th>\n",
       "      <th>Gamma</th>\n",
       "      <th>Eta</th>\n",
       "      <th>Max Risk</th>\n",
       "      <th>Wealth</th>\n",
       "      <th>No Risk Wealth</th>\n",
       "      <th>Wealth Difference</th>\n",
       "      <th>Wealth prop diff</th>\n",
       "    </tr>\n",
       "  </thead>\n",
       "  <tbody>\n",
       "    <tr>\n",
       "      <th>count</th>\n",
       "      <td>1100.000000</td>\n",
       "      <td>1100.000000</td>\n",
       "      <td>1100.000000</td>\n",
       "      <td>1100.000000</td>\n",
       "      <td>1100.000000</td>\n",
       "      <td>1100.000000</td>\n",
       "      <td>1.100000e+03</td>\n",
       "      <td>1.100000e+03</td>\n",
       "      <td>1.100000e+03</td>\n",
       "    </tr>\n",
       "    <tr>\n",
       "      <th>mean</th>\n",
       "      <td>101.067273</td>\n",
       "      <td>0.203045</td>\n",
       "      <td>0.003646</td>\n",
       "      <td>0.771455</td>\n",
       "      <td>0.974727</td>\n",
       "      <td>23.240022</td>\n",
       "      <td>1.666299e+01</td>\n",
       "      <td>6.577029e+00</td>\n",
       "      <td>5.874941e+04</td>\n",
       "    </tr>\n",
       "    <tr>\n",
       "      <th>std</th>\n",
       "      <td>81.697967</td>\n",
       "      <td>0.128961</td>\n",
       "      <td>0.003530</td>\n",
       "      <td>0.457933</td>\n",
       "      <td>0.289351</td>\n",
       "      <td>11.329711</td>\n",
       "      <td>1.095889e+01</td>\n",
       "      <td>9.767410e+00</td>\n",
       "      <td>1.492137e+06</td>\n",
       "    </tr>\n",
       "    <tr>\n",
       "      <th>min</th>\n",
       "      <td>21.000000</td>\n",
       "      <td>0.000000</td>\n",
       "      <td>0.000000</td>\n",
       "      <td>0.000000</td>\n",
       "      <td>0.500000</td>\n",
       "      <td>0.000140</td>\n",
       "      <td>1.888940e-07</td>\n",
       "      <td>-2.176420e+01</td>\n",
       "      <td>-4.493513e-01</td>\n",
       "    </tr>\n",
       "    <tr>\n",
       "      <th>25%</th>\n",
       "      <td>42.000000</td>\n",
       "      <td>0.100000</td>\n",
       "      <td>0.001000</td>\n",
       "      <td>0.400000</td>\n",
       "      <td>0.750000</td>\n",
       "      <td>15.051585</td>\n",
       "      <td>1.084368e+01</td>\n",
       "      <td>7.552359e-11</td>\n",
       "      <td>2.831727e-12</td>\n",
       "    </tr>\n",
       "    <tr>\n",
       "      <th>50%</th>\n",
       "      <td>63.000000</td>\n",
       "      <td>0.200000</td>\n",
       "      <td>0.002500</td>\n",
       "      <td>0.800000</td>\n",
       "      <td>1.000000</td>\n",
       "      <td>26.598582</td>\n",
       "      <td>1.416210e+01</td>\n",
       "      <td>4.203695e+00</td>\n",
       "      <td>3.649187e-01</td>\n",
       "    </tr>\n",
       "    <tr>\n",
       "      <th>75%</th>\n",
       "      <td>126.000000</td>\n",
       "      <td>0.300000</td>\n",
       "      <td>0.005000</td>\n",
       "      <td>1.200000</td>\n",
       "      <td>1.250000</td>\n",
       "      <td>26.749613</td>\n",
       "      <td>2.021331e+01</td>\n",
       "      <td>1.302029e+01</td>\n",
       "      <td>1.127740e+00</td>\n",
       "    </tr>\n",
       "    <tr>\n",
       "      <th>max</th>\n",
       "      <td>252.000000</td>\n",
       "      <td>0.400000</td>\n",
       "      <td>0.010000</td>\n",
       "      <td>1.500000</td>\n",
       "      <td>1.450000</td>\n",
       "      <td>118.394070</td>\n",
       "      <td>5.373013e+01</td>\n",
       "      <td>1.156722e+02</td>\n",
       "      <td>4.836919e+07</td>\n",
       "    </tr>\n",
       "  </tbody>\n",
       "</table>\n",
       "</div>"
      ],
      "text/plain": [
       "        Beta Range        Alpha        Gamma          Eta     Max Risk  \\\n",
       "count  1100.000000  1100.000000  1100.000000  1100.000000  1100.000000   \n",
       "mean    101.067273     0.203045     0.003646     0.771455     0.974727   \n",
       "std      81.697967     0.128961     0.003530     0.457933     0.289351   \n",
       "min      21.000000     0.000000     0.000000     0.000000     0.500000   \n",
       "25%      42.000000     0.100000     0.001000     0.400000     0.750000   \n",
       "50%      63.000000     0.200000     0.002500     0.800000     1.000000   \n",
       "75%     126.000000     0.300000     0.005000     1.200000     1.250000   \n",
       "max     252.000000     0.400000     0.010000     1.500000     1.450000   \n",
       "\n",
       "            Wealth  No Risk Wealth  Wealth Difference  Wealth prop diff  \n",
       "count  1100.000000    1.100000e+03       1.100000e+03      1.100000e+03  \n",
       "mean     23.240022    1.666299e+01       6.577029e+00      5.874941e+04  \n",
       "std      11.329711    1.095889e+01       9.767410e+00      1.492137e+06  \n",
       "min       0.000140    1.888940e-07      -2.176420e+01     -4.493513e-01  \n",
       "25%      15.051585    1.084368e+01       7.552359e-11      2.831727e-12  \n",
       "50%      26.598582    1.416210e+01       4.203695e+00      3.649187e-01  \n",
       "75%      26.749613    2.021331e+01       1.302029e+01      1.127740e+00  \n",
       "max     118.394070    5.373013e+01       1.156722e+02      4.836919e+07  "
      ]
     },
     "execution_count": 127,
     "metadata": {},
     "output_type": "execute_result"
    }
   ],
   "source": [
    "nyse_data.describe()"
   ]
  },
  {
   "cell_type": "code",
   "execution_count": 128,
   "metadata": {},
   "outputs": [
    {
     "data": {
      "image/png": "[encoded data removed]",
      "text/plain": [
       "<Figure size 360x360 with 1 Axes>"
      ]
     },
     "metadata": {
      "needs_background": "light"
     },
     "output_type": "display_data"
    }
   ],
   "source": [
    "fig = sns.relplot(x='Beta Range', y='Wealth Difference',\n",
    "                   kind=\"line\",\n",
    "                  data=nyse_data, marker=True,)"
   ]
  },
  {
   "cell_type": "code",
   "execution_count": 129,
   "metadata": {},
   "outputs": [
    {
     "data": {
      "text/plain": [
       "Text(0.5,6.8,'Maximum allowed risk')"
      ]
     },
     "execution_count": 129,
     "metadata": {},
     "output_type": "execute_result"
    },
    {
     "data": {
      "image/png": "[encoded data removed]",
      "text/plain": [
       "<Figure size 360x360 with 1 Axes>"
      ]
     },
     "metadata": {
      "needs_background": "light"
     },
     "output_type": "display_data"
    }
   ],
   "source": [
    "fig = sns.relplot(x='Max Risk', y='Wealth Difference',\n",
    "                   kind=\"line\",\n",
    "                  data=nyse_data, marker=True,)\n",
    "plt.xlabel('Maximum allowed risk')"
   ]
  },
  {
   "cell_type": "code",
   "execution_count": 131,
   "metadata": {},
   "outputs": [
    {
     "data": {
      "image/png": "[encoded data removed]",
      "text/plain": [
       "<Figure size 432x288 with 1 Axes>"
      ]
     },
     "metadata": {
      "needs_background": "light"
     },
     "output_type": "display_data"
    },
    {
     "data": {
      "image/png": "[encoded data removed]",
      "text/plain": [
       "<Figure size 432x288 with 1 Axes>"
      ]
     },
     "metadata": {
      "needs_background": "light"
     },
     "output_type": "display_data"
    }
   ],
   "source": [
    "x = nyse_data['Max Risk']\n",
    "y = nyse_data['Wealth prop diff']\n",
    "\n",
    "plt.scatter(x, y)\n",
    "plt.xlabel('Max allowed risk')\n",
    "plt.ylabel('Ratio of wealth difference to no-risk wealth')\n",
    "plt.show()\n",
    "\n",
    "plt.scatter(x, y)\n",
    "plt.ylim(0, 2)\n",
    "plt.xlabel('Max allowed risk')\n",
    "plt.ylabel('Ratio of wealth difference to no-risk wealth')\n",
    "plt.show()"
   ]
  },
  {
   "cell_type": "markdown",
   "metadata": {},
   "source": [
    "Across all parameters at low levels of allowed risk, the rejection strategy showed higher returns, both absolutely and relative to the size of welath aggregated. At higher allowed risk ,the wealth appread to dissipate to 25-50% of its non-risk limited value."
   ]
  },
  {
   "cell_type": "markdown",
   "metadata": {},
   "source": [
    "## 2.3 NYSE High-performing results"
   ]
  },
  {
   "cell_type": "code",
   "execution_count": 134,
   "metadata": {},
   "outputs": [
    {
     "data": {
      "text/html": [
       "<div>\n",
       "<style scoped>\n",
       "    .dataframe tbody tr th:only-of-type {\n",
       "        vertical-align: middle;\n",
       "    }\n",
       "\n",
       "    .dataframe tbody tr th {\n",
       "        vertical-align: top;\n",
       "    }\n",
       "\n",
       "    .dataframe thead th {\n",
       "        text-align: right;\n",
       "    }\n",
       "</style>\n",
       "<table border=\"1\" class=\"dataframe\">\n",
       "  <thead>\n",
       "    <tr style=\"text-align: right;\">\n",
       "      <th></th>\n",
       "      <th>Beta Range</th>\n",
       "      <th>Alpha</th>\n",
       "      <th>Gamma</th>\n",
       "      <th>Eta</th>\n",
       "      <th>Max Risk</th>\n",
       "      <th>Wealth</th>\n",
       "      <th>No Risk Wealth</th>\n",
       "      <th>Wealth Difference</th>\n",
       "      <th>Wealth prop diff</th>\n",
       "    </tr>\n",
       "  </thead>\n",
       "  <tbody>\n",
       "    <tr>\n",
       "      <th>count</th>\n",
       "      <td>601.000000</td>\n",
       "      <td>601.000000</td>\n",
       "      <td>601.000000</td>\n",
       "      <td>601.000000</td>\n",
       "      <td>601.000000</td>\n",
       "      <td>601.000000</td>\n",
       "      <td>6.010000e+02</td>\n",
       "      <td>6.010000e+02</td>\n",
       "      <td>6.010000e+02</td>\n",
       "    </tr>\n",
       "    <tr>\n",
       "      <th>mean</th>\n",
       "      <td>104.545757</td>\n",
       "      <td>0.197587</td>\n",
       "      <td>0.003272</td>\n",
       "      <td>0.774210</td>\n",
       "      <td>0.814975</td>\n",
       "      <td>30.809603</td>\n",
       "      <td>2.123353e+01</td>\n",
       "      <td>9.576075e+00</td>\n",
       "      <td>8.049793e+04</td>\n",
       "    </tr>\n",
       "    <tr>\n",
       "      <th>std</th>\n",
       "      <td>83.379604</td>\n",
       "      <td>0.120789</td>\n",
       "      <td>0.003266</td>\n",
       "      <td>0.472917</td>\n",
       "      <td>0.255719</td>\n",
       "      <td>8.872820</td>\n",
       "      <td>1.209706e+01</td>\n",
       "      <td>1.173633e+01</td>\n",
       "      <td>1.973020e+06</td>\n",
       "    </tr>\n",
       "    <tr>\n",
       "      <th>min</th>\n",
       "      <td>21.000000</td>\n",
       "      <td>0.000000</td>\n",
       "      <td>0.000000</td>\n",
       "      <td>0.000000</td>\n",
       "      <td>0.500000</td>\n",
       "      <td>25.044629</td>\n",
       "      <td>5.513944e-07</td>\n",
       "      <td>-2.176420e+01</td>\n",
       "      <td>-4.493513e-01</td>\n",
       "    </tr>\n",
       "    <tr>\n",
       "      <th>25%</th>\n",
       "      <td>42.000000</td>\n",
       "      <td>0.100000</td>\n",
       "      <td>0.001000</td>\n",
       "      <td>0.400000</td>\n",
       "      <td>0.600000</td>\n",
       "      <td>26.670504</td>\n",
       "      <td>1.228163e+01</td>\n",
       "      <td>7.552359e-11</td>\n",
       "      <td>2.831727e-12</td>\n",
       "    </tr>\n",
       "    <tr>\n",
       "      <th>50%</th>\n",
       "      <td>63.000000</td>\n",
       "      <td>0.200000</td>\n",
       "      <td>0.002500</td>\n",
       "      <td>0.800000</td>\n",
       "      <td>0.750000</td>\n",
       "      <td>26.670504</td>\n",
       "      <td>1.635489e+01</td>\n",
       "      <td>1.181702e+01</td>\n",
       "      <td>7.368447e-01</td>\n",
       "    </tr>\n",
       "    <tr>\n",
       "      <th>75%</th>\n",
       "      <td>126.000000</td>\n",
       "      <td>0.300000</td>\n",
       "      <td>0.005000</td>\n",
       "      <td>1.200000</td>\n",
       "      <td>0.950000</td>\n",
       "      <td>31.166067</td>\n",
       "      <td>2.762297e+01</td>\n",
       "      <td>1.550994e+01</td>\n",
       "      <td>1.260340e+00</td>\n",
       "    </tr>\n",
       "    <tr>\n",
       "      <th>max</th>\n",
       "      <td>252.000000</td>\n",
       "      <td>0.400000</td>\n",
       "      <td>0.010000</td>\n",
       "      <td>1.500000</td>\n",
       "      <td>1.450000</td>\n",
       "      <td>118.394070</td>\n",
       "      <td>5.373013e+01</td>\n",
       "      <td>1.156722e+02</td>\n",
       "      <td>4.836919e+07</td>\n",
       "    </tr>\n",
       "  </tbody>\n",
       "</table>\n",
       "</div>"
      ],
      "text/plain": [
       "       Beta Range       Alpha       Gamma         Eta    Max Risk      Wealth  \\\n",
       "count  601.000000  601.000000  601.000000  601.000000  601.000000  601.000000   \n",
       "mean   104.545757    0.197587    0.003272    0.774210    0.814975   30.809603   \n",
       "std     83.379604    0.120789    0.003266    0.472917    0.255719    8.872820   \n",
       "min     21.000000    0.000000    0.000000    0.000000    0.500000   25.044629   \n",
       "25%     42.000000    0.100000    0.001000    0.400000    0.600000   26.670504   \n",
       "50%     63.000000    0.200000    0.002500    0.800000    0.750000   26.670504   \n",
       "75%    126.000000    0.300000    0.005000    1.200000    0.950000   31.166067   \n",
       "max    252.000000    0.400000    0.010000    1.500000    1.450000  118.394070   \n",
       "\n",
       "       No Risk Wealth  Wealth Difference  Wealth prop diff  \n",
       "count    6.010000e+02       6.010000e+02      6.010000e+02  \n",
       "mean     2.123353e+01       9.576075e+00      8.049793e+04  \n",
       "std      1.209706e+01       1.173633e+01      1.973020e+06  \n",
       "min      5.513944e-07      -2.176420e+01     -4.493513e-01  \n",
       "25%      1.228163e+01       7.552359e-11      2.831727e-12  \n",
       "50%      1.635489e+01       1.181702e+01      7.368447e-01  \n",
       "75%      2.762297e+01       1.550994e+01      1.260340e+00  \n",
       "max      5.373013e+01       1.156722e+02      4.836919e+07  "
      ]
     },
     "execution_count": 134,
     "metadata": {},
     "output_type": "execute_result"
    }
   ],
   "source": [
    "nyse_high = nyse_data[nyse_data['Wealth'] >25]\n",
    "nyse_high.describe()"
   ]
  },
  {
   "cell_type": "code",
   "execution_count": 136,
   "metadata": {},
   "outputs": [
    {
     "data": {
      "text/plain": [
       "Text(0.5,1,'Impact of a maximal risk allowance on high-performing metrics of portfolio optimization')"
      ]
     },
     "execution_count": 136,
     "metadata": {},
     "output_type": "execute_result"
    },
    {
     "data": {
      "image/png": "[encoded data removed]",
      "text/plain": [
       "<Figure size 360x360 with 1 Axes>"
      ]
     },
     "metadata": {
      "needs_background": "light"
     },
     "output_type": "display_data"
    }
   ],
   "source": [
    "fig = sns.relplot(x='Max Risk', y='Wealth Difference',\n",
    "                   kind=\"line\",\n",
    "                  data=nyse_high, marker=True,)\n",
    "plt.xlabel('Maximum allowed risk')\n",
    "plt.title('Impact of a maximal risk allowance on high-performing metrics of portfolio optimization')"
   ]
  },
  {
   "cell_type": "markdown",
   "metadata": {},
   "source": [
    "Even at the upper end, the algorithms only improves with risky portfolios not being allowed."
   ]
  },
  {
   "cell_type": "code",
   "execution_count": null,
   "metadata": {},
   "outputs": [],
   "source": []
  }
 ],
 "metadata": {
  "kernelspec": {
   "display_name": "Python 2",
   "language": "python",
   "name": "python2"
  },
  "language_info": {
   "codemirror_mode": {
    "name": "ipython",
    "version": 2
   },
   "file_extension": ".py",
   "mimetype": "text/x-python",
   "name": "python",
   "nbconvert_exporter": "python",
   "pygments_lexer": "ipython2",
   "version": "2.7.15"
  }
 },
 "nbformat": 4,
 "nbformat_minor": 2
}
