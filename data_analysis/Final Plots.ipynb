{
 "cells": [
  {
   "cell_type": "markdown",
   "metadata": {},
   "source": [
    "## Final plots for report"
   ]
  },
  {
   "cell_type": "code",
   "execution_count": 6,
   "metadata": {},
   "outputs": [],
   "source": [
    "import pandas as pd\n",
    "import seaborn as sns\n",
    "import matplotlib.pyplot as plt\n",
    "\n",
    "import os"
   ]
  },
  {
   "cell_type": "markdown",
   "metadata": {},
   "source": [
    "## 1. Aggregate Data"
   ]
  },
  {
   "cell_type": "code",
   "execution_count": 11,
   "metadata": {},
   "outputs": [],
   "source": [
    "nyse_data_path = '../rejection/nyse-o/compare_100/'\n",
    "sp_data_path = '../rejection/sp500/'"
   ]
  },
  {
   "cell_type": "markdown",
   "metadata": {},
   "source": [
    "## 1.1 NYSE"
   ]
  },
  {
   "cell_type": "code",
   "execution_count": 12,
   "metadata": {},
   "outputs": [
    {
     "data": {
      "text/plain": [
       "['Compare_100_2018-01-18 00:32:31',\n",
       " 'Compare_100_2018-01-17 23:17:58',\n",
       " 'Compare_100_2018-01-18 01:17:40',\n",
       " 'Compare_100_2018-01-17 23:35:41',\n",
       " 'Compare_100_2018-01-17 20:34:47',\n",
       " 'Compare_100_2018-01-18 01:10:55',\n",
       " 'Compare_100_2018-01-17 23:13:38',\n",
       " 'Compare_100_2018-01-17 22:39:53',\n",
       " 'Compare_100_2018-01-17 20:01:05',\n",
       " 'Compare_100_2018-01-17 22:58:08',\n",
       " 'Compare_100_2018-01-17 23:35:42']"
      ]
     },
     "execution_count": 12,
     "metadata": {},
     "output_type": "execute_result"
    }
   ],
   "source": [
    "files = os.listdir(nyse_data_path)\n",
    "files"
   ]
  },
  {
   "cell_type": "code",
   "execution_count": 29,
   "metadata": {},
   "outputs": [],
   "source": [
    "dfs = []\n",
    "\n",
    "for f in files:\n",
    "    df = pd.read_csv(nyse_data_path + f)\n",
    "    dfs.append(df)\n",
    "    \n",
    "all_data = pd.concat(dfs, axis=0, ignore_index=True)\n",
    "all_data = all_data.drop(columns=['Unnamed: 0'])"
   ]
  },
  {
   "cell_type": "code",
   "execution_count": 32,
   "metadata": {},
   "outputs": [
    {
     "data": {
      "text/html": [
       "<div>\n",
       "<style scoped>\n",
       "    .dataframe tbody tr th:only-of-type {\n",
       "        vertical-align: middle;\n",
       "    }\n",
       "\n",
       "    .dataframe tbody tr th {\n",
       "        vertical-align: top;\n",
       "    }\n",
       "\n",
       "    .dataframe thead th {\n",
       "        text-align: right;\n",
       "    }\n",
       "</style>\n",
       "<table border=\"1\" class=\"dataframe\">\n",
       "  <thead>\n",
       "    <tr style=\"text-align: right;\">\n",
       "      <th></th>\n",
       "      <th>Beta Range</th>\n",
       "      <th>Alpha</th>\n",
       "      <th>Gamma</th>\n",
       "      <th>Eta</th>\n",
       "      <th>Max Risk</th>\n",
       "      <th>Wealth</th>\n",
       "      <th>No Risk Wealth</th>\n",
       "    </tr>\n",
       "  </thead>\n",
       "  <tbody>\n",
       "    <tr>\n",
       "      <th>0</th>\n",
       "      <td>21.0</td>\n",
       "      <td>0.40</td>\n",
       "      <td>0.0025</td>\n",
       "      <td>1.5</td>\n",
       "      <td>1.20</td>\n",
       "      <td>12.132442</td>\n",
       "      <td>11.637889</td>\n",
       "    </tr>\n",
       "    <tr>\n",
       "      <th>1</th>\n",
       "      <td>42.0</td>\n",
       "      <td>0.00</td>\n",
       "      <td>0.0010</td>\n",
       "      <td>1.0</td>\n",
       "      <td>1.00</td>\n",
       "      <td>5.038557</td>\n",
       "      <td>0.429885</td>\n",
       "    </tr>\n",
       "    <tr>\n",
       "      <th>2</th>\n",
       "      <td>42.0</td>\n",
       "      <td>0.30</td>\n",
       "      <td>0.0100</td>\n",
       "      <td>1.2</td>\n",
       "      <td>1.25</td>\n",
       "      <td>8.047887</td>\n",
       "      <td>7.657041</td>\n",
       "    </tr>\n",
       "    <tr>\n",
       "      <th>3</th>\n",
       "      <td>42.0</td>\n",
       "      <td>0.40</td>\n",
       "      <td>0.0050</td>\n",
       "      <td>0.6</td>\n",
       "      <td>0.75</td>\n",
       "      <td>26.769801</td>\n",
       "      <td>11.308666</td>\n",
       "    </tr>\n",
       "    <tr>\n",
       "      <th>4</th>\n",
       "      <td>63.0</td>\n",
       "      <td>0.05</td>\n",
       "      <td>0.0025</td>\n",
       "      <td>1.3</td>\n",
       "      <td>0.90</td>\n",
       "      <td>17.291876</td>\n",
       "      <td>4.279033</td>\n",
       "    </tr>\n",
       "    <tr>\n",
       "      <th>5</th>\n",
       "      <td>252.0</td>\n",
       "      <td>0.10</td>\n",
       "      <td>0.0000</td>\n",
       "      <td>0.3</td>\n",
       "      <td>1.05</td>\n",
       "      <td>15.968200</td>\n",
       "      <td>16.391637</td>\n",
       "    </tr>\n",
       "    <tr>\n",
       "      <th>6</th>\n",
       "      <td>42.0</td>\n",
       "      <td>0.30</td>\n",
       "      <td>0.0050</td>\n",
       "      <td>0.2</td>\n",
       "      <td>1.00</td>\n",
       "      <td>20.222691</td>\n",
       "      <td>12.940657</td>\n",
       "    </tr>\n",
       "    <tr>\n",
       "      <th>7</th>\n",
       "      <td>21.0</td>\n",
       "      <td>0.40</td>\n",
       "      <td>0.0000</td>\n",
       "      <td>0.3</td>\n",
       "      <td>0.65</td>\n",
       "      <td>26.789450</td>\n",
       "      <td>16.391637</td>\n",
       "    </tr>\n",
       "    <tr>\n",
       "      <th>8</th>\n",
       "      <td>63.0</td>\n",
       "      <td>0.25</td>\n",
       "      <td>0.0100</td>\n",
       "      <td>0.3</td>\n",
       "      <td>0.65</td>\n",
       "      <td>26.670504</td>\n",
       "      <td>9.161609</td>\n",
       "    </tr>\n",
       "    <tr>\n",
       "      <th>9</th>\n",
       "      <td>42.0</td>\n",
       "      <td>0.15</td>\n",
       "      <td>0.0000</td>\n",
       "      <td>1.4</td>\n",
       "      <td>0.85</td>\n",
       "      <td>43.014801</td>\n",
       "      <td>48.329926</td>\n",
       "    </tr>\n",
       "  </tbody>\n",
       "</table>\n",
       "</div>"
      ],
      "text/plain": [
       "   Beta Range  Alpha   Gamma  Eta  Max Risk     Wealth  No Risk Wealth\n",
       "0        21.0   0.40  0.0025  1.5      1.20  12.132442       11.637889\n",
       "1        42.0   0.00  0.0010  1.0      1.00   5.038557        0.429885\n",
       "2        42.0   0.30  0.0100  1.2      1.25   8.047887        7.657041\n",
       "3        42.0   0.40  0.0050  0.6      0.75  26.769801       11.308666\n",
       "4        63.0   0.05  0.0025  1.3      0.90  17.291876        4.279033\n",
       "5       252.0   0.10  0.0000  0.3      1.05  15.968200       16.391637\n",
       "6        42.0   0.30  0.0050  0.2      1.00  20.222691       12.940657\n",
       "7        21.0   0.40  0.0000  0.3      0.65  26.789450       16.391637\n",
       "8        63.0   0.25  0.0100  0.3      0.65  26.670504        9.161609\n",
       "9        42.0   0.15  0.0000  1.4      0.85  43.014801       48.329926"
      ]
     },
     "execution_count": 32,
     "metadata": {},
     "output_type": "execute_result"
    }
   ],
   "source": [
    "all_data.head(10)"
   ]
  },
  {
   "cell_type": "markdown",
   "metadata": {},
   "source": [
    "## 1.2 S&P"
   ]
  },
  {
   "cell_type": "code",
   "execution_count": null,
   "metadata": {},
   "outputs": [],
   "source": []
  }
 ],
 "metadata": {
  "kernelspec": {
   "display_name": "Python 2",
   "language": "python",
   "name": "python2"
  },
  "language_info": {
   "codemirror_mode": {
    "name": "ipython",
    "version": 2
   },
   "file_extension": ".py",
   "mimetype": "text/x-python",
   "name": "python",
   "nbconvert_exporter": "python",
   "pygments_lexer": "ipython2",
   "version": "2.7.15"
  }
 },
 "nbformat": 4,
 "nbformat_minor": 2
}
