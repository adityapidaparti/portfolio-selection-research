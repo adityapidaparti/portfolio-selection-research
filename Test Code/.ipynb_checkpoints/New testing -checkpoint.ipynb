{
 "cells": [
  {
   "cell_type": "markdown",
   "metadata": {
    "deletable": true,
    "editable": true
   },
   "source": [
    "# Testing code for OLU project UROP Spring of 2017\n",
    "\n",
    "Aditya Pidaparti, Arindam Banerjee, Nicholas Johnson"
   ]
  },
  {
   "cell_type": "markdown",
   "metadata": {
    "deletable": true,
    "editable": true
   },
   "source": [
    "## Data Setup\n",
    "The following cell contains all code that will be become datasetup.py."
   ]
  },
  {
   "cell_type": "code",
   "execution_count": 27,
   "metadata": {
    "collapsed": false,
    "deletable": true,
    "editable": true
   },
   "outputs": [],
   "source": [
    "from pandas_datareader.data import DataReader as web #irrelevant\n",
    "from datetime import datetime, timedelta\n",
    "import pandas as pd\n",
    "import numpy as np\n",
    "from datasets import *\n",
    "from sparse_port_admm import sparse_port_admm as spa"
   ]
  },
  {
   "cell_type": "markdown",
   "metadata": {
    "deletable": true,
    "editable": true
   },
   "source": [
    "## Lazy Updates ADMM\n",
    "The following cells contains the new lazy_updates_admm.py code"
   ]
  },
  {
   "cell_type": "markdown",
   "metadata": {
    "deletable": true,
    "editable": true
   },
   "source": [
    "This is our main function wrapper. It's going to perform setup for each test we do. That is, once we run this function, our initial paramters have been inputted and will stay that way (i.e. the learning rate and the L1 norm). It's going to come in the form of a function return results in the form of a pandas dataframe and a dictionary with all the parameters\n",
    "\n",
    "### Parameters we'll be varying:\n",
    "* learning rate (eta)\n",
    "* transaction cost (gamma)\n",
    "* risk tolerance (maxRisk)\n"
   ]
  },
  {
   "cell_type": "code",
   "execution_count": 28,
   "metadata": {
    "collapsed": false,
    "deletable": true,
    "editable": true
   },
   "outputs": [],
   "source": [
    "def lazy_updates_admm(pricesData='../Data/nyse-o.csv',betasData='../Data/nyse-o_betas_30.csv', eta = 0.05, alpha = 0.01, gamma = 0.0 ,maxRisk = 10 ** 10, debug = True):\n",
    "    \n",
    "    #pricesData is the price relative matrix, a string to its location\n",
    "    #betasData is the beta dataset, a string to its location\n",
    "    #eta is learning rate\n",
    "    #alpha is L1 norm weight (not varied)\n",
    "    #gamma is transaction cost\n",
    "    #maxRisk is max portfolio risk\n",
    "    #if debug is True, print statements will appear\n",
    "    \n",
    "    r = .01 #Augmentation term\n",
    "    b = 2 #weight on L2 norm\n",
    "    \n",
    "    #Data setup\n",
    "    prices = pd.read_csv(pricesData,delimiter=',').as_matrix()\n",
    "    betas = pd.read_csv(betasData,delimiter=',',index_col=0).as_matrix()\n",
    "    \n",
    "    #Variable initialization\n",
    "    (num_stock, num_days) = prices.shape\n",
    "    weight = np.zeros(prices.shape)\n",
    "    wealth = np.zeros((num_days, 1))\n",
    "    wealth[0,0] = 1 # Start with 1 dollar on day 1\n",
    "    \n",
    "    #portfolio for 1st day, allocate wealth equally across assets\n",
    "    weight[0:, 0] = np.ones(num_stock) * (1/num_stock)\n",
    "    \n",
    "    #2nd through last day\n",
    "    for day in range(1, num_days):\n",
    "\n",
    "        prev_day_weight = weight[:, day-1]\n",
    "        prev_day_data = prices[:, day-1]\n",
    "\n",
    "        w = spa(prev_day_weight, prev_day_data, eta, b, alpha, r,debug=True)\n",
    "       \n",
    "        weight[:, day] = w\n",
    "        new_wealth = wealth[day-1, 0] * np.dot(weight[:, day], prices[:, day])\n",
    "        \n",
    "        #Apply transaction cost. Zero for a gamma of 0\n",
    "        transaction_cost = gamma*abs(wealth[day-1, 0])*np.linalg.norm(weight[:,day-1]-weight[:,day],1)\n",
    "        wealth[day, 0] = new_wealth - transaction_cost\n",
    "\n",
    "    plt.plot(wealth[0:day])\n",
    "    plt.show()\n",
    "    return [eta, alpha, gamma, rho, beta, wealth[num_days -1, 0]]"
   ]
  },
  {
   "cell_type": "code",
   "execution_count": 29,
   "metadata": {
    "collapsed": false
   },
   "outputs": [
    {
     "ename": "KeyboardInterrupt",
     "evalue": "",
     "output_type": "error",
     "traceback": [
      "\u001b[0;31m---------------------------------------------------------------------------\u001b[0m",
      "\u001b[0;31mKeyboardInterrupt\u001b[0m                         Traceback (most recent call last)",
      "\u001b[0;32m<ipython-input-29-4d103f50079c>\u001b[0m in \u001b[0;36m<module>\u001b[0;34m()\u001b[0m\n\u001b[0;32m----> 1\u001b[0;31m \u001b[0mlazy_updates_admm\u001b[0m\u001b[0;34m(\u001b[0m\u001b[0;34m)\u001b[0m\u001b[0;34m\u001b[0m\u001b[0m\n\u001b[0m",
      "\u001b[0;32m<ipython-input-28-b97649a6e369>\u001b[0m in \u001b[0;36mlazy_updates_admm\u001b[0;34m(pricesData, betasData, eta, alpha, gamma, maxRisk, debug)\u001b[0m\n\u001b[1;32m     31\u001b[0m         \u001b[0mprev_day_data\u001b[0m \u001b[0;34m=\u001b[0m \u001b[0mprices\u001b[0m\u001b[0;34m[\u001b[0m\u001b[0;34m:\u001b[0m\u001b[0;34m,\u001b[0m \u001b[0mday\u001b[0m\u001b[0;34m-\u001b[0m\u001b[0;36m1\u001b[0m\u001b[0;34m]\u001b[0m\u001b[0;34m\u001b[0m\u001b[0m\n\u001b[1;32m     32\u001b[0m \u001b[0;34m\u001b[0m\u001b[0m\n\u001b[0;32m---> 33\u001b[0;31m         \u001b[0mw\u001b[0m \u001b[0;34m=\u001b[0m \u001b[0mspa\u001b[0m\u001b[0;34m(\u001b[0m\u001b[0mprev_day_weight\u001b[0m\u001b[0;34m,\u001b[0m \u001b[0mprev_day_data\u001b[0m\u001b[0;34m,\u001b[0m \u001b[0meta\u001b[0m\u001b[0;34m,\u001b[0m \u001b[0mb\u001b[0m\u001b[0;34m,\u001b[0m \u001b[0malpha\u001b[0m\u001b[0;34m,\u001b[0m \u001b[0mr\u001b[0m\u001b[0;34m)\u001b[0m\u001b[0;34m\u001b[0m\u001b[0m\n\u001b[0m\u001b[1;32m     34\u001b[0m \u001b[0;34m\u001b[0m\u001b[0m\n\u001b[1;32m     35\u001b[0m         \u001b[0mweight\u001b[0m\u001b[0;34m[\u001b[0m\u001b[0;34m:\u001b[0m\u001b[0;34m,\u001b[0m \u001b[0mday\u001b[0m\u001b[0;34m]\u001b[0m \u001b[0;34m=\u001b[0m \u001b[0mw\u001b[0m\u001b[0;34m\u001b[0m\u001b[0m\n",
      "\u001b[0;32m/Users/pidaparti/Google Drive/OneDrive/Projects/Portfolio Research/port_sel_web/Test Code/sparse_port_admm.py\u001b[0m in \u001b[0;36msparse_port_admm\u001b[0;34m(w_t, x_t, eta, beta, gamma, rho, debug)\u001b[0m\n\u001b[1;32m     39\u001b[0m         \u001b[0;31m#W-update (portfolio update))\u001b[0m\u001b[0;34m\u001b[0m\u001b[0;34m\u001b[0m\u001b[0m\n\u001b[1;32m     40\u001b[0m         \u001b[0mw_temp\u001b[0m \u001b[0;34m=\u001b[0m \u001b[0;34m(\u001b[0m\u001b[0meta\u001b[0m\u001b[0;34m/\u001b[0m\u001b[0;34m(\u001b[0m\u001b[0;34m(\u001b[0m\u001b[0mrho\u001b[0m\u001b[0;34m+\u001b[0m\u001b[0mbeta\u001b[0m\u001b[0;34m)\u001b[0m\u001b[0;34m*\u001b[0m\u001b[0mconst\u001b[0m\u001b[0;34m)\u001b[0m\u001b[0;34m)\u001b[0m\u001b[0;34m*\u001b[0m\u001b[0mx_t\u001b[0m \u001b[0;34m+\u001b[0m \u001b[0mw_t\u001b[0m \u001b[0;34m+\u001b[0m \u001b[0;34m(\u001b[0m\u001b[0mrho\u001b[0m\u001b[0;34m/\u001b[0m\u001b[0;34m(\u001b[0m\u001b[0mrho\u001b[0m\u001b[0;34m+\u001b[0m\u001b[0mbeta\u001b[0m\u001b[0;34m)\u001b[0m\u001b[0;34m)\u001b[0m\u001b[0;34m*\u001b[0m\u001b[0mz\u001b[0m \u001b[0;34m-\u001b[0m \u001b[0;34m(\u001b[0m\u001b[0mrho\u001b[0m\u001b[0;34m/\u001b[0m\u001b[0;34m(\u001b[0m\u001b[0mrho\u001b[0m\u001b[0;34m+\u001b[0m\u001b[0mbeta\u001b[0m\u001b[0;34m)\u001b[0m\u001b[0;34m)\u001b[0m\u001b[0;34m*\u001b[0m\u001b[0mu\u001b[0m\u001b[0;34m\u001b[0m\u001b[0m\n\u001b[0;32m---> 41\u001b[0;31m         \u001b[0mw\u001b[0m \u001b[0;34m=\u001b[0m \u001b[0mfind_y\u001b[0m\u001b[0;34m(\u001b[0m\u001b[0mw_temp\u001b[0m\u001b[0;34m,\u001b[0m \u001b[0;36m1\u001b[0m\u001b[0;34m)\u001b[0m \u001b[0;31m#projects onto a probablility distribution of size 1\u001b[0m\u001b[0;34m\u001b[0m\u001b[0m\n\u001b[0m\u001b[1;32m     42\u001b[0m \u001b[0;34m\u001b[0m\u001b[0m\n\u001b[1;32m     43\u001b[0m         \u001b[0;31m#Z-update\u001b[0m\u001b[0;34m\u001b[0m\u001b[0;34m\u001b[0m\u001b[0m\n",
      "\u001b[0;32m/Users/pidaparti/Google Drive/OneDrive/Projects/Portfolio Research/port_sel_web/Test Code/supporting_funcs.py\u001b[0m in \u001b[0;36mfind_y\u001b[0;34m(v, z)\u001b[0m\n\u001b[1;32m      6\u001b[0m     \u001b[0;31m# print (\"mu: \", mu)\u001b[0m\u001b[0;34m\u001b[0m\u001b[0;34m\u001b[0m\u001b[0m\n\u001b[1;32m      7\u001b[0m     \u001b[0;32mfor\u001b[0m \u001b[0mj\u001b[0m \u001b[0;32min\u001b[0m \u001b[0mrange\u001b[0m\u001b[0;34m(\u001b[0m\u001b[0;36m1\u001b[0m\u001b[0;34m,\u001b[0m\u001b[0;34m(\u001b[0m\u001b[0mlen\u001b[0m\u001b[0;34m(\u001b[0m\u001b[0mmu\u001b[0m\u001b[0;34m)\u001b[0m\u001b[0;34m+\u001b[0m\u001b[0;36m1\u001b[0m\u001b[0;34m)\u001b[0m\u001b[0;34m)\u001b[0m\u001b[0;34m:\u001b[0m\u001b[0;34m\u001b[0m\u001b[0m\n\u001b[0;32m----> 8\u001b[0;31m         \u001b[0mresidual\u001b[0m \u001b[0;34m=\u001b[0m \u001b[0mmu\u001b[0m\u001b[0;34m[\u001b[0m\u001b[0mj\u001b[0m\u001b[0;34m-\u001b[0m\u001b[0;36m1\u001b[0m\u001b[0;34m]\u001b[0m \u001b[0;34m-\u001b[0m \u001b[0;34m(\u001b[0m\u001b[0;34m(\u001b[0m\u001b[0msum\u001b[0m\u001b[0;34m(\u001b[0m\u001b[0mmu\u001b[0m\u001b[0;34m[\u001b[0m\u001b[0;34m:\u001b[0m\u001b[0mj\u001b[0m\u001b[0;34m]\u001b[0m\u001b[0;34m)\u001b[0m \u001b[0;34m-\u001b[0m \u001b[0mz\u001b[0m\u001b[0;34m)\u001b[0m\u001b[0;34m/\u001b[0m\u001b[0;34m(\u001b[0m\u001b[0mj\u001b[0m\u001b[0;34m)\u001b[0m\u001b[0;34m)\u001b[0m\u001b[0;34m\u001b[0m\u001b[0m\n\u001b[0m\u001b[1;32m      9\u001b[0m         \u001b[0;32mif\u001b[0m \u001b[0;34m(\u001b[0m\u001b[0mresidual\u001b[0m \u001b[0;34m>\u001b[0m \u001b[0;36m0\u001b[0m\u001b[0;34m)\u001b[0m\u001b[0;34m:\u001b[0m\u001b[0;34m\u001b[0m\u001b[0m\n\u001b[1;32m     10\u001b[0m             \u001b[0mrho\u001b[0m \u001b[0;34m=\u001b[0m \u001b[0mj\u001b[0m\u001b[0;34m\u001b[0m\u001b[0m\n",
      "\u001b[0;31mKeyboardInterrupt\u001b[0m: "
     ]
    }
   ],
   "source": [
    "lazy_updates_admm()"
   ]
  },
  {
   "cell_type": "code",
   "execution_count": null,
   "metadata": {
    "collapsed": true
   },
   "outputs": [],
   "source": []
  }
 ],
 "metadata": {
  "kernelspec": {
   "display_name": "Python 3",
   "language": "python",
   "name": "python3"
  },
  "language_info": {
   "codemirror_mode": {
    "name": "ipython",
    "version": 3
   },
   "file_extension": ".py",
   "mimetype": "text/x-python",
   "name": "python",
   "nbconvert_exporter": "python",
   "pygments_lexer": "ipython3",
   "version": "3.6.0"
  }
 },
 "nbformat": 4,
 "nbformat_minor": 2
}
