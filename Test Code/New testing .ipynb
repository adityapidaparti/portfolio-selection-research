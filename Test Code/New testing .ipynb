{
 "cells": [
  {
   "cell_type": "markdown",
   "metadata": {
    "deletable": true,
    "editable": true
   },
   "source": [
    "# Testing code for OLU project UROP Spring of 2017\n",
    "\n",
    "Aditya Pidaparti, Arindam Banerjee, Nicholas Johnson"
   ]
  },
  {
   "cell_type": "markdown",
   "metadata": {
    "deletable": true,
    "editable": true
   },
   "source": [
    "## Data Setup\n",
    "The following cell contains all code that will be become datasetup.py."
   ]
  },
  {
   "cell_type": "code",
   "execution_count": 6,
   "metadata": {
    "collapsed": false,
    "deletable": true,
    "editable": true
   },
   "outputs": [
    {
     "name": "stdout",
     "output_type": "stream",
     "text": [
      "(1043, 24)\n"
     ]
    }
   ],
   "source": [
    "from pandas_datareader.data import DataReader as web #irrelevant\n",
    "from datetime import datetime, timedelta\n",
    "import pandas as pd\n",
    "import numpy as np\n",
    "\n",
    "#datasets stored in the datafile, use the following to find them\n",
    "#Below are the price relatives for various standard datasets\n",
    "dija = '../Data/dija.csv'\n",
    "msci = '../Data/msci.csv'\n",
    "nyse_n = '../Data/nyse-n.csv'\n",
    "nyse_o = '../Data/nyse-o.csv'\n",
    "sp500 = '../Data/sp500.csv'\n",
    "tse = '../Data/tse.csv'\n",
    "current = msci\n",
    "\n",
    "\n",
    "data = np.loadtxt(current,delimiter=',')\n",
    "print (data.shape)"
   ]
  },
  {
   "cell_type": "markdown",
   "metadata": {
    "deletable": true,
    "editable": true
   },
   "source": [
    "## Lazy Updates ADMM\n",
    "The following cells contains the new lazy_updates_admm.py code"
   ]
  },
  {
   "cell_type": "markdown",
   "metadata": {
    "deletable": true,
    "editable": true
   },
   "source": [
    "This is our main function wrapper. It's going to perform setup for each test we do. That is, once we run this function, our initial paramters have been inputted and will stay that way (i.e. the learning rate and the L1 norm). It's going to come in the form of a function return results in the form of a pandas dataframe and a dictionary with all the parameters\n",
    "\n",
    "### Parameters we'll be varying:\n",
    "* learning rate or eta\n",
    "* L1 norm weight or alpha \n",
    "* transaction cost or gamma\n",
    "* risk tolerance or max_vol\n"
   ]
  },
  {
   "cell_type": "code",
   "execution_count": 2,
   "metadata": {
    "collapsed": false,
    "deletable": true,
    "editable": true
   },
   "outputs": [],
   "source": [
    "def lazy_updates_admm(PRM,betas, eta = 0.05, alpha = 0.01, gamma = 0.0 ,max_vol = 10 ** 10, debug = False):\n",
    "    r = .01 #Augmentation term\n",
    "    b = 2 #weight on L2 norm\n",
    "\n",
    "    if type(prices) != np.ndarray or type (betas) != np.ndarray:\n",
    "        raise Exception ('Wrong input types')\n",
    "    #Make sure all incoming data is in the form of Numpy arrays or matrices.\n",
    "    \n",
    "    #Variable initialization\n",
    "    (num_stock, num_days) = PRM.shape\n",
    "    weight = np.zeros(PRM.shape)\n",
    "    wealth = np.zeros((num_days, 1))\n",
    "    wealth[0,0] = 1 # Start with 1 dollar on day 1\n",
    "    \n",
    "    #portfolio for 1st day, allocate wealth equally across assets\n",
    "    weight[0:, 0] = np.ones(num_stock) * (1/num_stock)\n",
    "    \n",
    "    #2nd through last day\n",
    "    for day in range(1, num_days):\n",
    "\n",
    "        prev_day_weight = weight[:, day-1]\n",
    "        prev_day_data = PRM[:, day-1]\n",
    "\n",
    "        w = sparse_port_admm(prev_day_weight, prev_day_data, eta, b, alpha, r)\n",
    "       \n",
    "        weight[:, day] = w\n",
    "        new_wealth = wealth[day-1, 0] * np.dot(weight[:, day], PRM[:, day])\n",
    "        \n",
    "        #Apply transaction cost. Zero for a gamma of 0\n",
    "        transaction_cost = gamma*abs(wealth[day-1, 0])*np.linalg.norm(weight[:,day-1]-weight[:,day],1)\n",
    "        wealth[day, 0] = new_wealth - transaction_cost\n",
    "\n",
    "    # plt.plot(wealth[0:day])\n",
    "    # plt.show()\n",
    "    return [eta, alpha, gamma, rho, beta, wealth[num_days -1, 0]]"
   ]
  },
  {
   "cell_type": "markdown",
   "metadata": {},
   "source": [
    "Sandbox"
   ]
  },
  {
   "cell_type": "code",
   "execution_count": 38,
   "metadata": {
    "collapsed": false,
    "deletable": true,
    "editable": true
   },
   "outputs": [
    {
     "name": "stdout",
     "output_type": "stream",
     "text": [
      "[[1, 2, 3], [4, 5, 6], [7, 8, 9]]\n",
      "<class 'numpy.ndarray'>\n"
     ]
    }
   ],
   "source": [
    "a = [[x, x+1, x+2] for x in range(1,10,3)]\n",
    "print (a)\n",
    "b = np.array(a)\n",
    "print (type(b))"
   ]
  },
  {
   "cell_type": "markdown",
   "metadata": {
    "deletable": true,
    "editable": true
   },
   "source": [
    "The following cell contains the new sparse_updates_admm.py code"
   ]
  },
  {
   "cell_type": "code",
   "execution_count": null,
   "metadata": {
    "collapsed": false,
    "deletable": true,
    "editable": true
   },
   "outputs": [],
   "source": []
  },
  {
   "cell_type": "markdown",
   "metadata": {
    "deletable": true,
    "editable": true
   },
   "source": [
    "The following cell contains the new supporting_funcs code"
   ]
  },
  {
   "cell_type": "code",
   "execution_count": null,
   "metadata": {
    "collapsed": true,
    "deletable": true,
    "editable": true
   },
   "outputs": [],
   "source": []
  }
 ],
 "metadata": {
  "kernelspec": {
   "display_name": "Python 3",
   "language": "python",
   "name": "python3"
  },
  "language_info": {
   "codemirror_mode": {
    "name": "ipython",
    "version": 3
   },
   "file_extension": ".py",
   "mimetype": "text/x-python",
   "name": "python",
   "nbconvert_exporter": "python",
   "pygments_lexer": "ipython3",
   "version": "3.6.0"
  }
 },
 "nbformat": 4,
 "nbformat_minor": 2
}
